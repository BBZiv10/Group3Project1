{
 "cells": [
  {
   "cell_type": "code",
   "execution_count": 2,
   "id": "a4f1b357-bb36-42e0-907a-0b74351fd004",
   "metadata": {},
   "outputs": [],
   "source": [
    "!pip install yfinance\n",
    "!pip install matplotlib"
   ]
  },
  {
   "cell_type": "code",
   "execution_count": 2,
   "id": "e4479487-5e80-4a75-a379-76639ecd072f",
   "metadata": {},
   "outputs": [],
   "source": [
    "import yfinance as yf  \n",
    "import matplotlib.pyplot as plt"
   ]
  },
  {
   "cell_type": "code",
   "execution_count": 5,
   "id": "32acabbf-2de2-4e84-a1bf-5bfdbb9fae7b",
   "metadata": {},
   "outputs": [
    {
     "name": "stdout",
     "output_type": "stream",
     "text": [
      "[*********************100%***********************]  1 of 1 completed\n"
     ]
    },
    {
     "data": {
      "image/png": "[encoded data removed]",
      "text/plain": [
       "<Figure size 432x288 with 1 Axes>"
      ]
     },
     "metadata": {
      "needs_background": "light"
     },
     "output_type": "display_data"
    }
   ],
   "source": [
    "data = yf.download('BTC-USD','2015-01-01','2021-06-15')\n",
    "data[\"Adj Close\"].plot()\n",
    "plt.show()"
   ]
  },
  {
   "cell_type": "code",
   "execution_count": 25,
   "id": "392d9c72-a667-47a3-b301-88c94ce38bc8",
   "metadata": {},
   "outputs": [
    {
     "data": {
      "text/plain": [
       "<AxesSubplot:xlabel='Date'>"
      ]
     },
     "execution_count": 25,
     "metadata": {},
     "output_type": "execute_result"
    },
    {
     "data": {
      "image/png": "[encoded data removed]",
      "text/plain": [
       "<Figure size 432x288 with 1 Axes>"
      ]
     },
     "metadata": {
      "needs_background": "light"
     },
     "output_type": "display_data"
    }
   ],
   "source": [
    "data[[\"Volume\"]].plot()"
   ]
  },
  {
   "cell_type": "code",
   "execution_count": 35,
   "id": "3406e50d-705f-4714-8639-d5d1cec4f529",
   "metadata": {},
   "outputs": [
    {
     "data": {
      "text/html": [
       "<div>\n",
       "<style scoped>\n",
       "    .dataframe tbody tr th:only-of-type {\n",
       "        vertical-align: middle;\n",
       "    }\n",
       "\n",
       "    .dataframe tbody tr th {\n",
       "        vertical-align: top;\n",
       "    }\n",
       "\n",
       "    .dataframe thead th {\n",
       "        text-align: right;\n",
       "    }\n",
       "</style>\n",
       "<table border=\"1\" class=\"dataframe\">\n",
       "  <thead>\n",
       "    <tr style=\"text-align: right;\">\n",
       "      <th></th>\n",
       "      <th>Open</th>\n",
       "    </tr>\n",
       "    <tr>\n",
       "      <th>Date</th>\n",
       "      <th></th>\n",
       "    </tr>\n",
       "  </thead>\n",
       "  <tbody>\n",
       "    <tr>\n",
       "      <th>2015-01-01</th>\n",
       "      <td>False</td>\n",
       "    </tr>\n",
       "    <tr>\n",
       "      <th>2015-01-02</th>\n",
       "      <td>False</td>\n",
       "    </tr>\n",
       "    <tr>\n",
       "      <th>2015-01-03</th>\n",
       "      <td>False</td>\n",
       "    </tr>\n",
       "    <tr>\n",
       "      <th>2015-01-04</th>\n",
       "      <td>False</td>\n",
       "    </tr>\n",
       "    <tr>\n",
       "      <th>2015-01-05</th>\n",
       "      <td>False</td>\n",
       "    </tr>\n",
       "    <tr>\n",
       "      <th>...</th>\n",
       "      <td>...</td>\n",
       "    </tr>\n",
       "    <tr>\n",
       "      <th>2021-06-10</th>\n",
       "      <td>True</td>\n",
       "    </tr>\n",
       "    <tr>\n",
       "      <th>2021-06-11</th>\n",
       "      <td>False</td>\n",
       "    </tr>\n",
       "    <tr>\n",
       "      <th>2021-06-12</th>\n",
       "      <td>False</td>\n",
       "    </tr>\n",
       "    <tr>\n",
       "      <th>2021-06-13</th>\n",
       "      <td>False</td>\n",
       "    </tr>\n",
       "    <tr>\n",
       "      <th>2021-06-14</th>\n",
       "      <td>True</td>\n",
       "    </tr>\n",
       "  </tbody>\n",
       "</table>\n",
       "<p>2353 rows × 1 columns</p>\n",
       "</div>"
      ],
      "text/plain": [
       "             Open\n",
       "Date             \n",
       "2015-01-01  False\n",
       "2015-01-02  False\n",
       "2015-01-03  False\n",
       "2015-01-04  False\n",
       "2015-01-05  False\n",
       "...           ...\n",
       "2021-06-10   True\n",
       "2021-06-11  False\n",
       "2021-06-12  False\n",
       "2021-06-13  False\n",
       "2021-06-14   True\n",
       "\n",
       "[2353 rows x 1 columns]"
      ]
     },
     "execution_count": 35,
     "metadata": {},
     "output_type": "execute_result"
    }
   ],
   "source": [
    "data[['Open']].pct_change() > .05"
   ]
  },
  {
   "cell_type": "code",
   "execution_count": 37,
   "id": "71dc5d02-8a35-4eb4-b09b-b234f750f7d3",
   "metadata": {},
   "outputs": [
    {
     "data": {
      "text/html": [
       "<div>\n",
       "<style scoped>\n",
       "    .dataframe tbody tr th:only-of-type {\n",
       "        vertical-align: middle;\n",
       "    }\n",
       "\n",
       "    .dataframe tbody tr th {\n",
       "        vertical-align: top;\n",
       "    }\n",
       "\n",
       "    .dataframe thead th {\n",
       "        text-align: right;\n",
       "    }\n",
       "</style>\n",
       "<table border=\"1\" class=\"dataframe\">\n",
       "  <thead>\n",
       "    <tr style=\"text-align: right;\">\n",
       "      <th></th>\n",
       "      <th>Open</th>\n",
       "    </tr>\n",
       "    <tr>\n",
       "      <th>Date</th>\n",
       "      <th></th>\n",
       "    </tr>\n",
       "  </thead>\n",
       "  <tbody>\n",
       "    <tr>\n",
       "      <th>2015-01-01</th>\n",
       "      <td>False</td>\n",
       "    </tr>\n",
       "    <tr>\n",
       "      <th>2015-01-02</th>\n",
       "      <td>False</td>\n",
       "    </tr>\n",
       "    <tr>\n",
       "      <th>2015-01-03</th>\n",
       "      <td>False</td>\n",
       "    </tr>\n",
       "    <tr>\n",
       "      <th>2015-01-04</th>\n",
       "      <td>True</td>\n",
       "    </tr>\n",
       "    <tr>\n",
       "      <th>2015-01-05</th>\n",
       "      <td>True</td>\n",
       "    </tr>\n",
       "    <tr>\n",
       "      <th>...</th>\n",
       "      <td>...</td>\n",
       "    </tr>\n",
       "    <tr>\n",
       "      <th>2021-06-10</th>\n",
       "      <td>False</td>\n",
       "    </tr>\n",
       "    <tr>\n",
       "      <th>2021-06-11</th>\n",
       "      <td>False</td>\n",
       "    </tr>\n",
       "    <tr>\n",
       "      <th>2021-06-12</th>\n",
       "      <td>False</td>\n",
       "    </tr>\n",
       "    <tr>\n",
       "      <th>2021-06-13</th>\n",
       "      <td>False</td>\n",
       "    </tr>\n",
       "    <tr>\n",
       "      <th>2021-06-14</th>\n",
       "      <td>False</td>\n",
       "    </tr>\n",
       "  </tbody>\n",
       "</table>\n",
       "<p>2353 rows × 1 columns</p>\n",
       "</div>"
      ],
      "text/plain": [
       "             Open\n",
       "Date             \n",
       "2015-01-01  False\n",
       "2015-01-02  False\n",
       "2015-01-03  False\n",
       "2015-01-04   True\n",
       "2015-01-05   True\n",
       "...           ...\n",
       "2021-06-10  False\n",
       "2021-06-11  False\n",
       "2021-06-12  False\n",
       "2021-06-13  False\n",
       "2021-06-14  False\n",
       "\n",
       "[2353 rows x 1 columns]"
      ]
     },
     "execution_count": 37,
     "metadata": {},
     "output_type": "execute_result"
    }
   ],
   "source": [
    "data[['Open']].pct_change() < -.05"
   ]
  },
  {
   "cell_type": "code",
   "execution_count": 41,
   "id": "0e6aed7a-59e0-4a11-96da-f29c86bab82b",
   "metadata": {},
   "outputs": [
    {
     "data": {
      "text/html": [
       "<div>\n",
       "<style scoped>\n",
       "    .dataframe tbody tr th:only-of-type {\n",
       "        vertical-align: middle;\n",
       "    }\n",
       "\n",
       "    .dataframe tbody tr th {\n",
       "        vertical-align: top;\n",
       "    }\n",
       "\n",
       "    .dataframe thead th {\n",
       "        text-align: right;\n",
       "    }\n",
       "</style>\n",
       "<table border=\"1\" class=\"dataframe\">\n",
       "  <thead>\n",
       "    <tr style=\"text-align: right;\">\n",
       "      <th></th>\n",
       "      <th>Open</th>\n",
       "      <th>High</th>\n",
       "      <th>Low</th>\n",
       "      <th>Close</th>\n",
       "      <th>Adj Close</th>\n",
       "      <th>Volume</th>\n",
       "      <th>pct_change_over_5</th>\n",
       "      <th>pct_change_under_5</th>\n",
       "    </tr>\n",
       "    <tr>\n",
       "      <th>Date</th>\n",
       "      <th></th>\n",
       "      <th></th>\n",
       "      <th></th>\n",
       "      <th></th>\n",
       "      <th></th>\n",
       "      <th></th>\n",
       "      <th></th>\n",
       "      <th></th>\n",
       "    </tr>\n",
       "  </thead>\n",
       "  <tbody>\n",
       "    <tr>\n",
       "      <th>2015-01-01</th>\n",
       "      <td>320.434998</td>\n",
       "      <td>320.434998</td>\n",
       "      <td>314.002991</td>\n",
       "      <td>314.248993</td>\n",
       "      <td>314.248993</td>\n",
       "      <td>8036550</td>\n",
       "      <td>False</td>\n",
       "      <td>False</td>\n",
       "    </tr>\n",
       "    <tr>\n",
       "      <th>2015-01-02</th>\n",
       "      <td>314.079010</td>\n",
       "      <td>315.838989</td>\n",
       "      <td>313.565002</td>\n",
       "      <td>315.032013</td>\n",
       "      <td>315.032013</td>\n",
       "      <td>7860650</td>\n",
       "      <td>False</td>\n",
       "      <td>False</td>\n",
       "    </tr>\n",
       "    <tr>\n",
       "      <th>2015-01-03</th>\n",
       "      <td>314.846008</td>\n",
       "      <td>315.149994</td>\n",
       "      <td>281.082001</td>\n",
       "      <td>281.082001</td>\n",
       "      <td>281.082001</td>\n",
       "      <td>33054400</td>\n",
       "      <td>False</td>\n",
       "      <td>False</td>\n",
       "    </tr>\n",
       "    <tr>\n",
       "      <th>2015-01-04</th>\n",
       "      <td>281.145996</td>\n",
       "      <td>287.230011</td>\n",
       "      <td>257.612000</td>\n",
       "      <td>264.195007</td>\n",
       "      <td>264.195007</td>\n",
       "      <td>55629100</td>\n",
       "      <td>False</td>\n",
       "      <td>True</td>\n",
       "    </tr>\n",
       "    <tr>\n",
       "      <th>2015-01-05</th>\n",
       "      <td>265.084015</td>\n",
       "      <td>278.341003</td>\n",
       "      <td>265.084015</td>\n",
       "      <td>274.473999</td>\n",
       "      <td>274.473999</td>\n",
       "      <td>43962800</td>\n",
       "      <td>False</td>\n",
       "      <td>True</td>\n",
       "    </tr>\n",
       "  </tbody>\n",
       "</table>\n",
       "</div>"
      ],
      "text/plain": [
       "                  Open        High         Low       Close   Adj Close  \\\n",
       "Date                                                                     \n",
       "2015-01-01  320.434998  320.434998  314.002991  314.248993  314.248993   \n",
       "2015-01-02  314.079010  315.838989  313.565002  315.032013  315.032013   \n",
       "2015-01-03  314.846008  315.149994  281.082001  281.082001  281.082001   \n",
       "2015-01-04  281.145996  287.230011  257.612000  264.195007  264.195007   \n",
       "2015-01-05  265.084015  278.341003  265.084015  274.473999  274.473999   \n",
       "\n",
       "              Volume  pct_change_over_5  pct_change_under_5  \n",
       "Date                                                         \n",
       "2015-01-01   8036550              False               False  \n",
       "2015-01-02   7860650              False               False  \n",
       "2015-01-03  33054400              False               False  \n",
       "2015-01-04  55629100              False                True  \n",
       "2015-01-05  43962800              False                True  "
      ]
     },
     "execution_count": 41,
     "metadata": {},
     "output_type": "execute_result"
    }
   ],
   "source": [
    "data['pct_change_over_5'] = data[['Open']].pct_change() > .05\n",
    "data['pct_change_under_5'] = data[['Open']].pct_change() < -.05\n",
    "data.head()"
   ]
  },
  {
   "cell_type": "code",
   "execution_count": 80,
   "id": "bb0ee527-9b8d-4a4d-a4bf-4ea3926f9b5a",
   "metadata": {},
   "outputs": [
    {
     "data": {
      "text/html": [
       "<div>\n",
       "<style scoped>\n",
       "    .dataframe tbody tr th:only-of-type {\n",
       "        vertical-align: middle;\n",
       "    }\n",
       "\n",
       "    .dataframe tbody tr th {\n",
       "        vertical-align: top;\n",
       "    }\n",
       "\n",
       "    .dataframe thead th {\n",
       "        text-align: right;\n",
       "    }\n",
       "</style>\n",
       "<table border=\"1\" class=\"dataframe\">\n",
       "  <thead>\n",
       "    <tr style=\"text-align: right;\">\n",
       "      <th></th>\n",
       "    </tr>\n",
       "    <tr>\n",
       "      <th>Date</th>\n",
       "    </tr>\n",
       "  </thead>\n",
       "  <tbody>\n",
       "    <tr>\n",
       "      <th>2015-01-16</th>\n",
       "    </tr>\n",
       "    <tr>\n",
       "      <th>2015-01-19</th>\n",
       "    </tr>\n",
       "    <tr>\n",
       "      <th>2015-01-22</th>\n",
       "    </tr>\n",
       "    <tr>\n",
       "      <th>2015-01-25</th>\n",
       "    </tr>\n",
       "    <tr>\n",
       "      <th>2015-01-27</th>\n",
       "    </tr>\n",
       "    <tr>\n",
       "      <th>...</th>\n",
       "    </tr>\n",
       "    <tr>\n",
       "      <th>2021-05-06</th>\n",
       "    </tr>\n",
       "    <tr>\n",
       "      <th>2021-05-21</th>\n",
       "    </tr>\n",
       "    <tr>\n",
       "      <th>2021-05-25</th>\n",
       "    </tr>\n",
       "    <tr>\n",
       "      <th>2021-06-10</th>\n",
       "    </tr>\n",
       "    <tr>\n",
       "      <th>2021-06-14</th>\n",
       "    </tr>\n",
       "  </tbody>\n",
       "</table>\n",
       "<p>178 rows × 0 columns</p>\n",
       "</div>"
      ],
      "text/plain": [
       "Empty DataFrame\n",
       "Columns: []\n",
       "Index: [2015-01-16 00:00:00, 2015-01-19 00:00:00, 2015-01-22 00:00:00, 2015-01-25 00:00:00, 2015-01-27 00:00:00, 2015-02-14 00:00:00, 2015-02-15 00:00:00, 2015-02-28 00:00:00, 2015-03-03 00:00:00, 2015-03-10 00:00:00, 2015-06-17 00:00:00, 2015-07-11 00:00:00, 2015-07-13 00:00:00, 2015-08-26 00:00:00, 2015-11-03 00:00:00, 2015-11-04 00:00:00, 2015-11-13 00:00:00, 2015-11-27 00:00:00, 2015-12-06 00:00:00, 2015-12-12 00:00:00, 2016-01-08 00:00:00, 2016-01-17 00:00:00, 2016-01-21 00:00:00, 2016-02-05 00:00:00, 2016-05-29 00:00:00, 2016-06-04 00:00:00, 2016-06-12 00:00:00, 2016-06-13 00:00:00, 2016-06-17 00:00:00, 2016-06-25 00:00:00, 2016-12-24 00:00:00, 2017-01-05 00:00:00, 2017-01-18 00:00:00, 2017-02-01 00:00:00, 2017-03-12 00:00:00, 2017-03-20 00:00:00, 2017-03-22 00:00:00, 2017-03-28 00:00:00, 2017-05-02 00:00:00, 2017-05-09 00:00:00, 2017-05-18 00:00:00, 2017-05-23 00:00:00, 2017-05-24 00:00:00, 2017-05-25 00:00:00, 2017-05-29 00:00:00, 2017-06-02 00:00:00, 2017-06-06 00:00:00, 2017-06-07 00:00:00, 2017-06-18 00:00:00, 2017-07-18 00:00:00, 2017-07-21 00:00:00, 2017-07-23 00:00:00, 2017-07-28 00:00:00, 2017-08-06 00:00:00, 2017-08-12 00:00:00, 2017-08-13 00:00:00, 2017-08-15 00:00:00, 2017-09-16 00:00:00, 2017-09-19 00:00:00, 2017-09-26 00:00:00, 2017-09-28 00:00:00, 2017-10-13 00:00:00, 2017-10-21 00:00:00, 2017-10-30 00:00:00, 2017-11-01 00:00:00, 2017-11-02 00:00:00, 2017-11-14 00:00:00, 2017-11-16 00:00:00, 2017-11-17 00:00:00, 2017-11-26 00:00:00, 2017-11-27 00:00:00, 2017-11-28 00:00:00, 2017-12-02 00:00:00, 2017-12-07 00:00:00, 2017-12-08 00:00:00, 2017-12-12 00:00:00, 2017-12-16 00:00:00, 2017-12-17 00:00:00, 2017-12-27 00:00:00, 2018-01-01 00:00:00, 2018-01-03 00:00:00, 2018-01-06 00:00:00, 2018-01-21 00:00:00, 2018-02-07 00:00:00, 2018-02-09 00:00:00, 2018-02-10 00:00:00, 2018-02-13 00:00:00, 2018-02-15 00:00:00, 2018-02-16 00:00:00, 2018-02-18 00:00:00, 2018-02-20 00:00:00, 2018-02-27 00:00:00, 2018-03-02 00:00:00, 2018-03-12 00:00:00, 2018-03-19 00:00:00, 2018-04-13 00:00:00, 2018-04-21 00:00:00, 2018-04-25 00:00:00, 2018-06-15 00:00:00, 2018-06-30 00:00:00, ...]\n",
       "\n",
       "[178 rows x 0 columns]"
      ]
     },
     "execution_count": 80,
     "metadata": {},
     "output_type": "execute_result"
    }
   ],
   "source": [
    "# Display the days that bitcoin rose over 5% in one day\n",
    "\n",
    "up_5 = data.loc[data['pct_change_over_5'] == True]\n",
    "up_5.iloc[:200, :0]"
   ]
  },
  {
   "cell_type": "code",
   "execution_count": 81,
   "id": "c4e54669-561a-4593-9d73-9b9cca2af358",
   "metadata": {},
   "outputs": [
    {
     "data": {
      "text/html": [
       "<div>\n",
       "<style scoped>\n",
       "    .dataframe tbody tr th:only-of-type {\n",
       "        vertical-align: middle;\n",
       "    }\n",
       "\n",
       "    .dataframe tbody tr th {\n",
       "        vertical-align: top;\n",
       "    }\n",
       "\n",
       "    .dataframe thead th {\n",
       "        text-align: right;\n",
       "    }\n",
       "</style>\n",
       "<table border=\"1\" class=\"dataframe\">\n",
       "  <thead>\n",
       "    <tr style=\"text-align: right;\">\n",
       "      <th></th>\n",
       "    </tr>\n",
       "    <tr>\n",
       "      <th>Date</th>\n",
       "    </tr>\n",
       "  </thead>\n",
       "  <tbody>\n",
       "    <tr>\n",
       "      <th>2015-01-04</th>\n",
       "    </tr>\n",
       "    <tr>\n",
       "      <th>2015-01-05</th>\n",
       "    </tr>\n",
       "    <tr>\n",
       "      <th>2015-01-14</th>\n",
       "    </tr>\n",
       "    <tr>\n",
       "      <th>2015-01-15</th>\n",
       "    </tr>\n",
       "    <tr>\n",
       "      <th>2015-01-29</th>\n",
       "    </tr>\n",
       "    <tr>\n",
       "      <th>...</th>\n",
       "    </tr>\n",
       "    <tr>\n",
       "      <th>2021-05-22</th>\n",
       "    </tr>\n",
       "    <tr>\n",
       "      <th>2021-05-24</th>\n",
       "    </tr>\n",
       "    <tr>\n",
       "      <th>2021-05-29</th>\n",
       "    </tr>\n",
       "    <tr>\n",
       "      <th>2021-06-05</th>\n",
       "    </tr>\n",
       "    <tr>\n",
       "      <th>2021-06-08</th>\n",
       "    </tr>\n",
       "  </tbody>\n",
       "</table>\n",
       "<p>164 rows × 0 columns</p>\n",
       "</div>"
      ],
      "text/plain": [
       "Empty DataFrame\n",
       "Columns: []\n",
       "Index: [2015-01-04 00:00:00, 2015-01-05 00:00:00, 2015-01-14 00:00:00, 2015-01-15 00:00:00, 2015-01-29 00:00:00, 2015-02-16 00:00:00, 2015-03-19 00:00:00, 2015-03-25 00:00:00, 2015-07-14 00:00:00, 2015-08-09 00:00:00, 2015-08-19 00:00:00, 2015-08-25 00:00:00, 2015-11-11 00:00:00, 2015-11-12 00:00:00, 2015-12-27 00:00:00, 2016-01-16 00:00:00, 2016-01-23 00:00:00, 2016-06-22 00:00:00, 2016-06-23 00:00:00, 2016-06-27 00:00:00, 2016-07-04 00:00:00, 2016-07-08 00:00:00, 2016-08-03 00:00:00, 2016-11-04 00:00:00, 2017-01-06 00:00:00, 2017-01-07 00:00:00, 2017-01-12 00:00:00, 2017-02-10 00:00:00, 2017-03-09 00:00:00, 2017-03-11 00:00:00, 2017-03-17 00:00:00, 2017-03-18 00:00:00, 2017-03-19 00:00:00, 2017-03-23 00:00:00, 2017-03-25 00:00:00, 2017-05-13 00:00:00, 2017-05-26 00:00:00, 2017-05-27 00:00:00, 2017-05-28 00:00:00, 2017-06-08 00:00:00, 2017-06-13 00:00:00, 2017-06-15 00:00:00, 2017-07-11 00:00:00, 2017-07-15 00:00:00, 2017-07-16 00:00:00, 2017-07-22 00:00:00, 2017-07-26 00:00:00, 2017-08-02 00:00:00, 2017-09-03 00:00:00, 2017-09-05 00:00:00, 2017-09-09 00:00:00, 2017-09-14 00:00:00, 2017-09-15 00:00:00, 2017-09-22 00:00:00, 2017-10-25 00:00:00, 2017-11-07 00:00:00, 2017-11-11 00:00:00, 2017-11-13 00:00:00, 2017-12-09 00:00:00, 2017-12-10 00:00:00, 2017-12-14 00:00:00, 2017-12-20 00:00:00, 2017-12-21 00:00:00, 2017-12-23 00:00:00, 2017-12-29 00:00:00, 2017-12-31 00:00:00, 2018-01-08 00:00:00, 2018-01-09 00:00:00, 2018-01-12 00:00:00, 2018-01-17 00:00:00, 2018-01-22 00:00:00, 2018-01-23 00:00:00, 2018-01-31 00:00:00, 2018-02-02 00:00:00, 2018-02-05 00:00:00, 2018-02-06 00:00:00, 2018-02-12 00:00:00, 2018-02-19 00:00:00, 2018-02-22 00:00:00, 2018-02-23 00:00:00, 2018-03-07 00:00:00, 2018-03-08 00:00:00, 2018-03-09 00:00:00, 2018-03-11 00:00:00, 2018-03-15 00:00:00, 2018-03-18 00:00:00, 2018-03-30 00:00:00, 2018-04-05 00:00:00, 2018-04-26 00:00:00, 2018-05-12 00:00:00, 2018-05-24 00:00:00, 2018-06-11 00:00:00, 2018-06-23 00:00:00, 2018-07-11 00:00:00, 2018-08-01 00:00:00, 2018-08-05 00:00:00, 2018-08-09 00:00:00, 2018-08-11 00:00:00, 2018-09-06 00:00:00, 2018-10-12 00:00:00, ...]\n",
       "\n",
       "[164 rows x 0 columns]"
      ]
     },
     "execution_count": 81,
     "metadata": {},
     "output_type": "execute_result"
    }
   ],
   "source": [
    "# Display the days that bitcoin sunk over 5% in one day\n",
    "\n",
    "down_5 = data.loc[data['pct_change_under_5'] == True]\n",
    "down_5.iloc[:200, :0]"
   ]
  },
  {
   "cell_type": "code",
   "execution_count": 89,
   "id": "57039ab0-94b9-4e8d-b961-ddc804ca5a1b",
   "metadata": {},
   "outputs": [],
   "source": [
    "up_5.to_csv('up_5.csv')"
   ]
  },
  {
   "cell_type": "code",
   "execution_count": null,
   "id": "003b0cfc-770d-414f-9387-ca9e800649c4",
   "metadata": {},
   "outputs": [],
   "source": []
  }
 ],
 "metadata": {
  "kernelspec": {
   "display_name": "Python 3",
   "language": "python",
   "name": "python3"
  },
  "language_info": {
   "codemirror_mode": {
    "name": "ipython",
    "version": 3
   },
   "file_extension": ".py",
   "mimetype": "text/x-python",
   "name": "python",
   "nbconvert_exporter": "python",
   "pygments_lexer": "ipython3",
   "version": "3.7.10"
  }
 },
 "nbformat": 4,
 "nbformat_minor": 5
}
