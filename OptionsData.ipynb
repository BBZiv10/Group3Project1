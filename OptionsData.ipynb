{
 "cells": [
  {
   "cell_type": "code",
   "execution_count": 56,
   "id": "91c5b393-40e4-428e-b5aa-72eaaccdc403",
   "metadata": {},
   "outputs": [],
   "source": [
    "import pandas as pd \n",
    "import matplotlib.pyplot as plt \n",
    "import numpy as np\n",
    "import csv"
   ]
  },
  {
   "cell_type": "code",
   "execution_count": 57,
   "id": "eb5938e4-ee5d-41c4-a3df-524d0f42b33c",
   "metadata": {},
   "outputs": [
    {
     "name": "stdout",
     "output_type": "stream",
     "text": [
      "       volume       ticks status    open     low    high     cost   close  \\\n",
      "0         0.5  1609804800     ok  0.1775  0.0850  0.1775   0.0547  0.0850   \n",
      "1        37.3  1609891200     ok  0.0850  0.0850  0.3195   8.1060  0.2300   \n",
      "2         1.0  1609977600     ok  0.3200  0.3200  0.3200   0.3200  0.3200   \n",
      "3        73.6  1610064000     ok  0.2300  0.2300  0.2300  16.9280  0.2300   \n",
      "4         0.0  1610150400     ok  0.2300  0.2300  0.2300   0.0000  0.2300   \n",
      "...       ...         ...    ...     ...     ...     ...      ...     ...   \n",
      "13657     0.0  1622678400     ok  1.6555  1.6555  1.6555   0.0000  1.6555   \n",
      "13658     0.0  1622764800     ok  1.6555  1.6555  1.6555   0.0000  1.6555   \n",
      "13659     0.0  1622851200     ok  1.6555  1.6555  1.6555   0.0000  1.6555   \n",
      "13660     0.0  1622937600     ok  1.6555  1.6555  1.6555   0.0000  1.6555   \n",
      "13661     0.0  1623024000     ok  1.6555  1.6555  1.6555   0.0000  1.6555   \n",
      "\n",
      "            timestamp           Instrument  \n",
      "0      1/4/2021 18:00  BTC-24SEP21-40000-P  \n",
      "1      1/5/2021 18:00  BTC-24SEP21-40000-P  \n",
      "2      1/6/2021 18:00  BTC-24SEP21-40000-P  \n",
      "3      1/7/2021 18:00  BTC-24SEP21-40000-P  \n",
      "4      1/8/2021 18:00  BTC-24SEP21-40000-P  \n",
      "...               ...                  ...  \n",
      "13657  6/2/2021 19:00  BTC-25JUN21-88000-P  \n",
      "13658  6/3/2021 19:00  BTC-25JUN21-88000-P  \n",
      "13659  6/4/2021 19:00  BTC-25JUN21-88000-P  \n",
      "13660  6/5/2021 19:00  BTC-25JUN21-88000-P  \n",
      "13661  6/6/2021 19:00  BTC-25JUN21-88000-P  \n",
      "\n",
      "[13662 rows x 10 columns]\n"
     ]
    }
   ],
   "source": [
    "#Read the BTC options data CSV\n",
    "\n",
    "df = pd.read_csv(r'C:\\Users\\Luke\\Desktop\\Project 1\\Group3Project1\\deribit_history.csv') \n",
    "print (df)"
   ]
  },
  {
   "cell_type": "code",
   "execution_count": 58,
   "id": "0c520849-6634-43d2-9cb6-f042ac2b8c54",
   "metadata": {},
   "outputs": [
    {
     "data": {
      "text/plain": [
       "6/6/2021 19:00    138\n",
       "6/5/2021 19:00    137\n",
       "6/3/2021 19:00    137\n",
       "6/2/2021 19:00    137\n",
       "6/4/2021 19:00    137\n",
       "                 ... \n",
       "1/8/2021 18:00     38\n",
       "1/7/2021 18:00     37\n",
       "1/6/2021 18:00     37\n",
       "1/5/2021 18:00     35\n",
       "1/4/2021 18:00     31\n",
       "Name: timestamp, Length: 154, dtype: int64"
      ]
     },
     "execution_count": 58,
     "metadata": {},
     "output_type": "execute_result"
    }
   ],
   "source": [
    "#Categorize the trading activity by timestamp\n",
    "\n",
    "days = df['timestamp'].value_counts()\n",
    "days = days.iloc[:154]\n",
    "days"
   ]
  },
  {
   "cell_type": "code",
   "execution_count": 61,
   "id": "0f83359a-5998-4752-b479-642f36928387",
   "metadata": {},
   "outputs": [
    {
     "data": {
      "text/plain": [
       "6/6/2021 19:00    138\n",
       "Name: date, dtype: int64"
      ]
     },
     "execution_count": 61,
     "metadata": {},
     "output_type": "execute_result"
    }
   ],
   "source": [
    "days.iloc[:1].rename('date')"
   ]
  },
  {
   "cell_type": "code",
   "execution_count": 62,
   "id": "db1adfe5-2754-45a1-b634-79909005d798",
   "metadata": {},
   "outputs": [],
   "source": [
    "#Export the days df to a csv\n",
    "\n",
    "days.to_csv(r'C:\\Users\\Luke\\Desktop\\Project 1\\Group3Project1\\days.csv')"
   ]
  },
  {
   "cell_type": "code",
   "execution_count": 46,
   "id": "87ef52f7-43d2-421c-bf03-42a1e5ce3ce4",
   "metadata": {},
   "outputs": [],
   "source": [
    "#Read in the up_5 down_5 df's\n",
    "\n",
    "up_5 = pd.read_csv(r'C:\\Users\\Luke\\Desktop\\Project 1\\Group3Project1\\up_5.csv')\n",
    "down_5 = pd.read_csv(r'C:\\Users\\Luke\\Desktop\\Project 1\\Group3Project1\\down_5.csv')"
   ]
  },
  {
   "cell_type": "code",
   "execution_count": 53,
   "id": "8d0b72a2-449f-4753-ad85-948332451338",
   "metadata": {},
   "outputs": [
    {
     "ename": "TypeError",
     "evalue": "step() missing 1 required positional argument: 'y'",
     "output_type": "error",
     "traceback": [
      "\u001b[1;31m---------------------------------------------------------------------------\u001b[0m",
      "\u001b[1;31mTypeError\u001b[0m                                 Traceback (most recent call last)",
      "\u001b[1;32m<ipython-input-53-b7a66e91ebf9>\u001b[0m in \u001b[0;36m<module>\u001b[1;34m\u001b[0m\n\u001b[0;32m      4\u001b[0m \u001b[1;33m\u001b[0m\u001b[0m\n\u001b[0;32m      5\u001b[0m \u001b[0mplt\u001b[0m\u001b[1;33m.\u001b[0m\u001b[0mfigure\u001b[0m\u001b[1;33m(\u001b[0m\u001b[0mfigsize\u001b[0m\u001b[1;33m=\u001b[0m\u001b[1;33m(\u001b[0m\u001b[1;36m12.5\u001b[0m\u001b[1;33m,\u001b[0m \u001b[1;36m4.5\u001b[0m\u001b[1;33m)\u001b[0m\u001b[1;33m)\u001b[0m\u001b[1;33m\u001b[0m\u001b[1;33m\u001b[0m\u001b[0m\n\u001b[1;32m----> 6\u001b[1;33m \u001b[0mplt\u001b[0m\u001b[1;33m.\u001b[0m\u001b[0mstep\u001b[0m\u001b[1;33m(\u001b[0m\u001b[0mBTC\u001b[0m\u001b[1;33m,\u001b[0m \u001b[0mlabel\u001b[0m \u001b[1;33m=\u001b[0m \u001b[1;34m'BTC'\u001b[0m\u001b[1;33m)\u001b[0m\u001b[1;33m\u001b[0m\u001b[1;33m\u001b[0m\u001b[0m\n\u001b[0m\u001b[0;32m      7\u001b[0m \u001b[0mplt\u001b[0m\u001b[1;33m.\u001b[0m\u001b[0mtitle\u001b[0m\u001b[1;33m(\u001b[0m\u001b[1;34m'Options Trading Activity'\u001b[0m\u001b[1;33m)\u001b[0m\u001b[1;33m\u001b[0m\u001b[1;33m\u001b[0m\u001b[0m\n\u001b[0;32m      8\u001b[0m \u001b[0mplt\u001b[0m\u001b[1;33m.\u001b[0m\u001b[0mxlabel\u001b[0m\u001b[1;33m(\u001b[0m\u001b[1;34m'1/1/2020 - 6/10/2021'\u001b[0m\u001b[1;33m)\u001b[0m\u001b[1;33m\u001b[0m\u001b[1;33m\u001b[0m\u001b[0m\n",
      "\u001b[1;31mTypeError\u001b[0m: step() missing 1 required positional argument: 'y'"
     ]
    },
    {
     "data": {
      "text/plain": [
       "<Figure size 900x324 with 0 Axes>"
      ]
     },
     "metadata": {},
     "output_type": "display_data"
    }
   ],
   "source": [
    "#Create dataframe to visualize the trading activity of the contracts with the days of percentage change +/- 5%\n",
    "\n",
    "BTC = days\n",
    "\n",
    "plt.figure(figsize=(12.5, 4.5))\n",
    "plt.step(BTC, label = 'BTC')\n",
    "plt.title('Options Trading Activity')\n",
    "plt.xlabel('1/1/2020 - 6/10/2021')\n",
    "plt.ylabel('Volume')"
   ]
  },
  {
   "cell_type": "code",
   "execution_count": null,
   "id": "c3f46c50-017b-4caf-8a51-0ef39dee9b36",
   "metadata": {},
   "outputs": [],
   "source": []
  }
 ],
 "metadata": {
  "kernelspec": {
   "display_name": "Python 3",
   "language": "python",
   "name": "python3"
  },
  "language_info": {
   "codemirror_mode": {
    "name": "ipython",
    "version": 3
   },
   "file_extension": ".py",
   "mimetype": "text/x-python",
   "name": "python",
   "nbconvert_exporter": "python",
   "pygments_lexer": "ipython3",
   "version": "3.7.10"
  }
 },
 "nbformat": 4,
 "nbformat_minor": 5
}
